{
 "cells": [
  {
   "cell_type": "markdown",
   "metadata": {},
   "source": [
    "## Imports"
   ]
  },
  {
   "cell_type": "code",
   "execution_count": 1,
   "metadata": {},
   "outputs": [],
   "source": [
    "from service_functions.broker_report import broker_report\n",
    "import matplotlib.pyplot as plt\n",
    "import seaborn as sns\n",
    "%matplotlib inline"
   ]
  },
  {
   "cell_type": "markdown",
   "metadata": {},
   "source": [
    "## Initialization class"
   ]
  },
  {
   "cell_type": "code",
   "execution_count": 2,
   "metadata": {},
   "outputs": [
    {
     "name": "stdout",
     "output_type": "stream",
     "text": [
      "WARNING *** file size (1384384) not 512 + multiple of sector size (512)\n"
     ]
    }
   ],
   "source": [
    "report = broker_report('/path_to_report.xls',\n",
    "                       init_cash=100000)"
   ]
  },
  {
   "attachments": {},
   "cell_type": "markdown",
   "metadata": {},
   "source": [
    "## Description"
   ]
  },
  {
   "cell_type": "markdown",
   "metadata": {},
   "source": [
    "### General information"
   ]
  },
  {
   "cell_type": "markdown",
   "metadata": {},
   "source": [
    "The first dataframe contains general data with trades. This includes the ticker, average price and quantity, trade number, and final outcome."
   ]
  },
  {
   "cell_type": "code",
   "execution_count": 3,
   "metadata": {},
   "outputs": [
    {
     "name": "stdout",
     "output_type": "stream",
     "text": [
      "<class 'pandas.core.frame.DataFrame'>\n",
      "DatetimeIndex: 899 entries, 2022-02-24 12:48:32 to 2022-05-05 13:59:59\n",
      "Data columns (total 10 columns):\n",
      " #   Column           Non-Null Count  Dtype  \n",
      "---  ------           --------------  -----  \n",
      " 0   ticker           899 non-null    object \n",
      " 1   price            899 non-null    float64\n",
      " 2   q                899 non-null    int64  \n",
      " 3   fee              899 non-null    float64\n",
      " 4   position         899 non-null    int64  \n",
      " 5   trade_num        899 non-null    float64\n",
      " 6   avg_entry_price  899 non-null    float64\n",
      " 7   trade_side       899 non-null    object \n",
      " 8   pnl              242 non-null    float64\n",
      " 9   cum_pnl          242 non-null    float64\n",
      "dtypes: float64(6), int64(2), object(2)\n",
      "memory usage: 77.3+ KB\n"
     ]
    }
   ],
   "source": [
    "report.df.info()"
   ]
  },
  {
   "cell_type": "code",
   "execution_count": 4,
   "metadata": {},
   "outputs": [
    {
     "data": {
      "text/html": [
       "<div>\n",
       "<style scoped>\n",
       "    .dataframe tbody tr th:only-of-type {\n",
       "        vertical-align: middle;\n",
       "    }\n",
       "\n",
       "    .dataframe tbody tr th {\n",
       "        vertical-align: top;\n",
       "    }\n",
       "\n",
       "    .dataframe thead th {\n",
       "        text-align: right;\n",
       "    }\n",
       "</style>\n",
       "<table border=\"1\" class=\"dataframe\">\n",
       "  <thead>\n",
       "    <tr style=\"text-align: right;\">\n",
       "      <th></th>\n",
       "      <th>ticker</th>\n",
       "      <th>price</th>\n",
       "      <th>q</th>\n",
       "      <th>fee</th>\n",
       "      <th>position</th>\n",
       "      <th>trade_num</th>\n",
       "      <th>avg_entry_price</th>\n",
       "      <th>trade_side</th>\n",
       "      <th>pnl</th>\n",
       "      <th>cum_pnl</th>\n",
       "    </tr>\n",
       "    <tr>\n",
       "      <th>datetime</th>\n",
       "      <th></th>\n",
       "      <th></th>\n",
       "      <th></th>\n",
       "      <th></th>\n",
       "      <th></th>\n",
       "      <th></th>\n",
       "      <th></th>\n",
       "      <th></th>\n",
       "      <th></th>\n",
       "      <th></th>\n",
       "    </tr>\n",
       "  </thead>\n",
       "  <tbody>\n",
       "    <tr>\n",
       "      <th>2022-05-05 11:50:20</th>\n",
       "      <td>Si-6.22</td>\n",
       "      <td>67465.0</td>\n",
       "      <td>1</td>\n",
       "      <td>0.90</td>\n",
       "      <td>-2</td>\n",
       "      <td>240.0</td>\n",
       "      <td>67799.0</td>\n",
       "      <td>short</td>\n",
       "      <td>NaN</td>\n",
       "      <td>NaN</td>\n",
       "    </tr>\n",
       "    <tr>\n",
       "      <th>2022-05-05 11:52:04</th>\n",
       "      <td>Si-6.22</td>\n",
       "      <td>67286.0</td>\n",
       "      <td>1</td>\n",
       "      <td>0.90</td>\n",
       "      <td>-1</td>\n",
       "      <td>240.0</td>\n",
       "      <td>68312.0</td>\n",
       "      <td>short</td>\n",
       "      <td>NaN</td>\n",
       "      <td>NaN</td>\n",
       "    </tr>\n",
       "    <tr>\n",
       "      <th>2022-05-05 11:52:04</th>\n",
       "      <td>Si-6.22</td>\n",
       "      <td>67286.0</td>\n",
       "      <td>1</td>\n",
       "      <td>0.90</td>\n",
       "      <td>0</td>\n",
       "      <td>240.0</td>\n",
       "      <td>68312.0</td>\n",
       "      <td>short</td>\n",
       "      <td>1026.0</td>\n",
       "      <td>110517.0</td>\n",
       "    </tr>\n",
       "    <tr>\n",
       "      <th>2022-05-05 12:55:28</th>\n",
       "      <td>Si-6.22</td>\n",
       "      <td>67338.0</td>\n",
       "      <td>1</td>\n",
       "      <td>1.96</td>\n",
       "      <td>1</td>\n",
       "      <td>241.0</td>\n",
       "      <td>67338.0</td>\n",
       "      <td>long</td>\n",
       "      <td>NaN</td>\n",
       "      <td>NaN</td>\n",
       "    </tr>\n",
       "    <tr>\n",
       "      <th>2022-05-05 13:59:59</th>\n",
       "      <td>Si-6.22</td>\n",
       "      <td>67348.0</td>\n",
       "      <td>-1</td>\n",
       "      <td>0.90</td>\n",
       "      <td>0</td>\n",
       "      <td>241.0</td>\n",
       "      <td>67338.0</td>\n",
       "      <td>long</td>\n",
       "      <td>10.0</td>\n",
       "      <td>110527.0</td>\n",
       "    </tr>\n",
       "  </tbody>\n",
       "</table>\n",
       "</div>"
      ],
      "text/plain": [
       "                      ticker    price  q   fee  position  trade_num  \\\n",
       "datetime                                                              \n",
       "2022-05-05 11:50:20  Si-6.22  67465.0  1  0.90        -2      240.0   \n",
       "2022-05-05 11:52:04  Si-6.22  67286.0  1  0.90        -1      240.0   \n",
       "2022-05-05 11:52:04  Si-6.22  67286.0  1  0.90         0      240.0   \n",
       "2022-05-05 12:55:28  Si-6.22  67338.0  1  1.96         1      241.0   \n",
       "2022-05-05 13:59:59  Si-6.22  67348.0 -1  0.90         0      241.0   \n",
       "\n",
       "                     avg_entry_price trade_side     pnl   cum_pnl  \n",
       "datetime                                                           \n",
       "2022-05-05 11:50:20          67799.0      short     NaN       NaN  \n",
       "2022-05-05 11:52:04          68312.0      short     NaN       NaN  \n",
       "2022-05-05 11:52:04          68312.0      short  1026.0  110517.0  \n",
       "2022-05-05 12:55:28          67338.0       long     NaN       NaN  \n",
       "2022-05-05 13:59:59          67338.0       long    10.0  110527.0  "
      ]
     },
     "execution_count": 4,
     "metadata": {},
     "output_type": "execute_result"
    }
   ],
   "source": [
    "report.df.tail()"
   ]
  },
  {
   "cell_type": "markdown",
   "metadata": {},
   "source": [
    "PnL and Cum_PnL are calculated at the moment of closing the position:"
   ]
  },
  {
   "cell_type": "code",
   "execution_count": 5,
   "metadata": {},
   "outputs": [
    {
     "data": {
      "text/html": [
       "<div>\n",
       "<style scoped>\n",
       "    .dataframe tbody tr th:only-of-type {\n",
       "        vertical-align: middle;\n",
       "    }\n",
       "\n",
       "    .dataframe tbody tr th {\n",
       "        vertical-align: top;\n",
       "    }\n",
       "\n",
       "    .dataframe thead th {\n",
       "        text-align: right;\n",
       "    }\n",
       "</style>\n",
       "<table border=\"1\" class=\"dataframe\">\n",
       "  <thead>\n",
       "    <tr style=\"text-align: right;\">\n",
       "      <th></th>\n",
       "      <th>ticker</th>\n",
       "      <th>price</th>\n",
       "      <th>q</th>\n",
       "      <th>fee</th>\n",
       "      <th>position</th>\n",
       "      <th>trade_num</th>\n",
       "      <th>avg_entry_price</th>\n",
       "      <th>trade_side</th>\n",
       "      <th>pnl</th>\n",
       "      <th>cum_pnl</th>\n",
       "    </tr>\n",
       "    <tr>\n",
       "      <th>datetime</th>\n",
       "      <th></th>\n",
       "      <th></th>\n",
       "      <th></th>\n",
       "      <th></th>\n",
       "      <th></th>\n",
       "      <th></th>\n",
       "      <th></th>\n",
       "      <th></th>\n",
       "      <th></th>\n",
       "      <th></th>\n",
       "    </tr>\n",
       "  </thead>\n",
       "  <tbody>\n",
       "    <tr>\n",
       "      <th>2022-04-29 12:07:55</th>\n",
       "      <td>Si-6.22</td>\n",
       "      <td>72146.0</td>\n",
       "      <td>-1</td>\n",
       "      <td>0.9</td>\n",
       "      <td>0</td>\n",
       "      <td>214.0</td>\n",
       "      <td>72083.0</td>\n",
       "      <td>long</td>\n",
       "      <td>63.0</td>\n",
       "      <td>108649.0</td>\n",
       "    </tr>\n",
       "    <tr>\n",
       "      <th>2022-04-26 10:45:53</th>\n",
       "      <td>Si-6.22</td>\n",
       "      <td>74832.0</td>\n",
       "      <td>2</td>\n",
       "      <td>1.8</td>\n",
       "      <td>0</td>\n",
       "      <td>200.0</td>\n",
       "      <td>74837.5</td>\n",
       "      <td>short</td>\n",
       "      <td>11.0</td>\n",
       "      <td>105033.0</td>\n",
       "    </tr>\n",
       "    <tr>\n",
       "      <th>2022-03-30 18:44:41</th>\n",
       "      <td>Si-6.22</td>\n",
       "      <td>87954.0</td>\n",
       "      <td>1</td>\n",
       "      <td>0.9</td>\n",
       "      <td>0</td>\n",
       "      <td>36.0</td>\n",
       "      <td>88018.0</td>\n",
       "      <td>short</td>\n",
       "      <td>64.0</td>\n",
       "      <td>103974.0</td>\n",
       "    </tr>\n",
       "    <tr>\n",
       "      <th>2022-03-31 16:44:21</th>\n",
       "      <td>Si-6.22</td>\n",
       "      <td>88150.0</td>\n",
       "      <td>1</td>\n",
       "      <td>0.9</td>\n",
       "      <td>0</td>\n",
       "      <td>42.0</td>\n",
       "      <td>87784.0</td>\n",
       "      <td>short</td>\n",
       "      <td>-366.0</td>\n",
       "      <td>104054.0</td>\n",
       "    </tr>\n",
       "    <tr>\n",
       "      <th>2022-03-10 18:08:08</th>\n",
       "      <td>Si-3.22</td>\n",
       "      <td>118281.0</td>\n",
       "      <td>1</td>\n",
       "      <td>0.9</td>\n",
       "      <td>0</td>\n",
       "      <td>26.0</td>\n",
       "      <td>117571.0</td>\n",
       "      <td>short</td>\n",
       "      <td>-710.0</td>\n",
       "      <td>99162.0</td>\n",
       "    </tr>\n",
       "  </tbody>\n",
       "</table>\n",
       "</div>"
      ],
      "text/plain": [
       "                      ticker     price  q  fee  position  trade_num  \\\n",
       "datetime                                                              \n",
       "2022-04-29 12:07:55  Si-6.22   72146.0 -1  0.9         0      214.0   \n",
       "2022-04-26 10:45:53  Si-6.22   74832.0  2  1.8         0      200.0   \n",
       "2022-03-30 18:44:41  Si-6.22   87954.0  1  0.9         0       36.0   \n",
       "2022-03-31 16:44:21  Si-6.22   88150.0  1  0.9         0       42.0   \n",
       "2022-03-10 18:08:08  Si-3.22  118281.0  1  0.9         0       26.0   \n",
       "\n",
       "                     avg_entry_price trade_side    pnl   cum_pnl  \n",
       "datetime                                                          \n",
       "2022-04-29 12:07:55          72083.0       long   63.0  108649.0  \n",
       "2022-04-26 10:45:53          74837.5      short   11.0  105033.0  \n",
       "2022-03-30 18:44:41          88018.0      short   64.0  103974.0  \n",
       "2022-03-31 16:44:21          87784.0      short -366.0  104054.0  \n",
       "2022-03-10 18:08:08         117571.0      short -710.0   99162.0  "
      ]
     },
     "execution_count": 5,
     "metadata": {},
     "output_type": "execute_result"
    }
   ],
   "source": [
    "report.df.loc[report.df.position == 0].sample(5)"
   ]
  },
  {
   "cell_type": "markdown",
   "metadata": {},
   "source": [
    "Thus, the dataframe presents general information, taking into account transactions for different instruments that could occur at approximately the same time.\n",
    "\n",
    "It is possible to separately examine each trade in terms of position addition/reduction:"
   ]
  },
  {
   "cell_type": "code",
   "execution_count": 6,
   "metadata": {},
   "outputs": [
    {
     "data": {
      "text/html": [
       "<div>\n",
       "<style scoped>\n",
       "    .dataframe tbody tr th:only-of-type {\n",
       "        vertical-align: middle;\n",
       "    }\n",
       "\n",
       "    .dataframe tbody tr th {\n",
       "        vertical-align: top;\n",
       "    }\n",
       "\n",
       "    .dataframe thead th {\n",
       "        text-align: right;\n",
       "    }\n",
       "</style>\n",
       "<table border=\"1\" class=\"dataframe\">\n",
       "  <thead>\n",
       "    <tr style=\"text-align: right;\">\n",
       "      <th></th>\n",
       "      <th>ticker</th>\n",
       "      <th>price</th>\n",
       "      <th>q</th>\n",
       "      <th>fee</th>\n",
       "      <th>position</th>\n",
       "      <th>trade_num</th>\n",
       "      <th>avg_entry_price</th>\n",
       "      <th>trade_side</th>\n",
       "      <th>pnl</th>\n",
       "      <th>cum_pnl</th>\n",
       "    </tr>\n",
       "    <tr>\n",
       "      <th>datetime</th>\n",
       "      <th></th>\n",
       "      <th></th>\n",
       "      <th></th>\n",
       "      <th></th>\n",
       "      <th></th>\n",
       "      <th></th>\n",
       "      <th></th>\n",
       "      <th></th>\n",
       "      <th></th>\n",
       "      <th></th>\n",
       "    </tr>\n",
       "  </thead>\n",
       "  <tbody>\n",
       "    <tr>\n",
       "      <th>2022-02-24 14:13:52</th>\n",
       "      <td>BR-3.22</td>\n",
       "      <td>104.61</td>\n",
       "      <td>1</td>\n",
       "      <td>4.4</td>\n",
       "      <td>1</td>\n",
       "      <td>5.0</td>\n",
       "      <td>104.61</td>\n",
       "      <td>long</td>\n",
       "      <td>NaN</td>\n",
       "      <td>NaN</td>\n",
       "    </tr>\n",
       "    <tr>\n",
       "      <th>2022-02-24 14:14:04</th>\n",
       "      <td>BR-3.22</td>\n",
       "      <td>104.61</td>\n",
       "      <td>1</td>\n",
       "      <td>4.4</td>\n",
       "      <td>2</td>\n",
       "      <td>5.0</td>\n",
       "      <td>104.61</td>\n",
       "      <td>long</td>\n",
       "      <td>NaN</td>\n",
       "      <td>NaN</td>\n",
       "    </tr>\n",
       "    <tr>\n",
       "      <th>2022-02-24 14:25:19</th>\n",
       "      <td>BR-3.22</td>\n",
       "      <td>104.68</td>\n",
       "      <td>-1</td>\n",
       "      <td>0.9</td>\n",
       "      <td>1</td>\n",
       "      <td>5.0</td>\n",
       "      <td>104.54</td>\n",
       "      <td>long</td>\n",
       "      <td>NaN</td>\n",
       "      <td>NaN</td>\n",
       "    </tr>\n",
       "    <tr>\n",
       "      <th>2022-02-24 14:32:47</th>\n",
       "      <td>BR-3.22</td>\n",
       "      <td>104.42</td>\n",
       "      <td>1</td>\n",
       "      <td>4.4</td>\n",
       "      <td>2</td>\n",
       "      <td>5.0</td>\n",
       "      <td>104.48</td>\n",
       "      <td>long</td>\n",
       "      <td>NaN</td>\n",
       "      <td>NaN</td>\n",
       "    </tr>\n",
       "    <tr>\n",
       "      <th>2022-02-24 14:56:39</th>\n",
       "      <td>BR-3.22</td>\n",
       "      <td>105.03</td>\n",
       "      <td>-1</td>\n",
       "      <td>0.9</td>\n",
       "      <td>1</td>\n",
       "      <td>5.0</td>\n",
       "      <td>103.93</td>\n",
       "      <td>long</td>\n",
       "      <td>NaN</td>\n",
       "      <td>NaN</td>\n",
       "    </tr>\n",
       "    <tr>\n",
       "      <th>2022-02-24 14:56:50</th>\n",
       "      <td>BR-3.22</td>\n",
       "      <td>105.05</td>\n",
       "      <td>-1</td>\n",
       "      <td>0.9</td>\n",
       "      <td>0</td>\n",
       "      <td>5.0</td>\n",
       "      <td>103.93</td>\n",
       "      <td>long</td>\n",
       "      <td>784.0</td>\n",
       "      <td>100392.0</td>\n",
       "    </tr>\n",
       "  </tbody>\n",
       "</table>\n",
       "</div>"
      ],
      "text/plain": [
       "                      ticker   price  q  fee  position  trade_num  \\\n",
       "datetime                                                            \n",
       "2022-02-24 14:13:52  BR-3.22  104.61  1  4.4         1        5.0   \n",
       "2022-02-24 14:14:04  BR-3.22  104.61  1  4.4         2        5.0   \n",
       "2022-02-24 14:25:19  BR-3.22  104.68 -1  0.9         1        5.0   \n",
       "2022-02-24 14:32:47  BR-3.22  104.42  1  4.4         2        5.0   \n",
       "2022-02-24 14:56:39  BR-3.22  105.03 -1  0.9         1        5.0   \n",
       "2022-02-24 14:56:50  BR-3.22  105.05 -1  0.9         0        5.0   \n",
       "\n",
       "                     avg_entry_price trade_side    pnl   cum_pnl  \n",
       "datetime                                                          \n",
       "2022-02-24 14:13:52           104.61       long    NaN       NaN  \n",
       "2022-02-24 14:14:04           104.61       long    NaN       NaN  \n",
       "2022-02-24 14:25:19           104.54       long    NaN       NaN  \n",
       "2022-02-24 14:32:47           104.48       long    NaN       NaN  \n",
       "2022-02-24 14:56:39           103.93       long    NaN       NaN  \n",
       "2022-02-24 14:56:50           103.93       long  784.0  100392.0  "
      ]
     },
     "execution_count": 6,
     "metadata": {},
     "output_type": "execute_result"
    }
   ],
   "source": [
    "report.df.loc[report.df.trade_num == 5]"
   ]
  },
  {
   "cell_type": "markdown",
   "metadata": {},
   "source": [
    "This division into trades will allow for a more detailed analysis of the trading system in the future. For example, one could compare it with intraday data and examine what would have happened if the position had been closed earlier or later.\n",
    "\n",
    "Let's take a look at the final trading result:"
   ]
  },
  {
   "cell_type": "code",
   "execution_count": 7,
   "metadata": {},
   "outputs": [
    {
     "data": {
      "image/png": "[encoded data removed]",
      "text/plain": [
       "<Figure size 1200x800 with 1 Axes>"
      ]
     },
     "metadata": {},
     "output_type": "display_data"
    }
   ],
   "source": [
    "report.plot_cum_pnl()"
   ]
  },
  {
   "cell_type": "markdown",
   "metadata": {},
   "source": [
    "### Summary per trade"
   ]
  },
  {
   "cell_type": "markdown",
   "metadata": {},
   "source": [
    "Aggregated information by tickers allows tracking how well or poorly the strategy performs on different instruments. Let's take a look at the top 5 tickers by the number of trades:"
   ]
  },
  {
   "cell_type": "code",
   "execution_count": 8,
   "metadata": {},
   "outputs": [
    {
     "data": {
      "image/png": "[encoded data removed]",
      "text/plain": [
       "<Figure size 800x600 with 1 Axes>"
      ]
     },
     "metadata": {},
     "output_type": "display_data"
    }
   ],
   "source": [
    "report.plot_unique_tickers()"
   ]
  },
  {
   "cell_type": "markdown",
   "metadata": {},
   "source": [
    "Let's take a look at the results in numerical terms:"
   ]
  },
  {
   "cell_type": "code",
   "execution_count": 9,
   "metadata": {},
   "outputs": [
    {
     "data": {
      "text/html": [
       "<div>\n",
       "<style scoped>\n",
       "    .dataframe tbody tr th:only-of-type {\n",
       "        vertical-align: middle;\n",
       "    }\n",
       "\n",
       "    .dataframe tbody tr th {\n",
       "        vertical-align: top;\n",
       "    }\n",
       "\n",
       "    .dataframe thead th {\n",
       "        text-align: right;\n",
       "    }\n",
       "</style>\n",
       "<table border=\"1\" class=\"dataframe\">\n",
       "  <thead>\n",
       "    <tr style=\"text-align: right;\">\n",
       "      <th></th>\n",
       "      <th>pnl</th>\n",
       "      <th>count</th>\n",
       "      <th>profit</th>\n",
       "      <th>lose</th>\n",
       "      <th>win_rate</th>\n",
       "      <th>profit_factor</th>\n",
       "      <th>expected_avg_value</th>\n",
       "    </tr>\n",
       "  </thead>\n",
       "  <tbody>\n",
       "    <tr>\n",
       "      <th>Si-6.22</th>\n",
       "      <td>12898.0</td>\n",
       "      <td>201.0</td>\n",
       "      <td>319.788732</td>\n",
       "      <td>-551.050847</td>\n",
       "      <td>0.706468</td>\n",
       "      <td>0.580325</td>\n",
       "      <td>64.169154</td>\n",
       "    </tr>\n",
       "    <tr>\n",
       "      <th>BR-3.22</th>\n",
       "      <td>2121.0</td>\n",
       "      <td>13.0</td>\n",
       "      <td>278.090909</td>\n",
       "      <td>-469.000000</td>\n",
       "      <td>0.846154</td>\n",
       "      <td>0.592944</td>\n",
       "      <td>163.153846</td>\n",
       "    </tr>\n",
       "    <tr>\n",
       "      <th>Si-3.22</th>\n",
       "      <td>-236.0</td>\n",
       "      <td>12.0</td>\n",
       "      <td>322.714286</td>\n",
       "      <td>-499.000000</td>\n",
       "      <td>0.583333</td>\n",
       "      <td>0.646722</td>\n",
       "      <td>-19.666667</td>\n",
       "    </tr>\n",
       "    <tr>\n",
       "      <th>BR-5.22</th>\n",
       "      <td>-1533.0</td>\n",
       "      <td>14.0</td>\n",
       "      <td>121.333333</td>\n",
       "      <td>-282.625000</td>\n",
       "      <td>0.428571</td>\n",
       "      <td>0.429309</td>\n",
       "      <td>-109.500000</td>\n",
       "    </tr>\n",
       "    <tr>\n",
       "      <th>BR-4.22</th>\n",
       "      <td>-2723.0</td>\n",
       "      <td>2.0</td>\n",
       "      <td>NaN</td>\n",
       "      <td>-1361.500000</td>\n",
       "      <td>0.000000</td>\n",
       "      <td>NaN</td>\n",
       "      <td>NaN</td>\n",
       "    </tr>\n",
       "  </tbody>\n",
       "</table>\n",
       "</div>"
      ],
      "text/plain": [
       "             pnl  count      profit         lose  win_rate  profit_factor  \\\n",
       "Si-6.22  12898.0  201.0  319.788732  -551.050847  0.706468       0.580325   \n",
       "BR-3.22   2121.0   13.0  278.090909  -469.000000  0.846154       0.592944   \n",
       "Si-3.22   -236.0   12.0  322.714286  -499.000000  0.583333       0.646722   \n",
       "BR-5.22  -1533.0   14.0  121.333333  -282.625000  0.428571       0.429309   \n",
       "BR-4.22  -2723.0    2.0         NaN -1361.500000  0.000000            NaN   \n",
       "\n",
       "         expected_avg_value  \n",
       "Si-6.22           64.169154  \n",
       "BR-3.22          163.153846  \n",
       "Si-3.22          -19.666667  \n",
       "BR-5.22         -109.500000  \n",
       "BR-4.22                 NaN  "
      ]
     },
     "execution_count": 9,
     "metadata": {},
     "output_type": "execute_result"
    }
   ],
   "source": [
    "report.summary_per_trade"
   ]
  },
  {
   "cell_type": "markdown",
   "metadata": {},
   "source": [
    "Here are the following metrics:\n",
    "\n",
    "1) `PnL` - the final result for the ticker;\n",
    "2) `count` - the number of trades executed with the ticker;\n",
    "3) `Profit` - the average profitable trade;\n",
    "4) `Lose` -  the average losing trade;\n",
    "5) `Win_rate` - the ratio of profitable trades to all trades;\n",
    "6) `Profit_factor` - the ratio of the average profitable trade to the average losing trade;\n",
    "7) `Expected_avg_value` - the average result of a trade. Equity vector direction."
   ]
  },
  {
   "cell_type": "markdown",
   "metadata": {},
   "source": [
    "### Summary"
   ]
  },
  {
   "cell_type": "markdown",
   "metadata": {},
   "source": [
    "The overall result `summary`, is a dataframe similar to `summary_per_trade`."
   ]
  },
  {
   "cell_type": "code",
   "execution_count": 10,
   "metadata": {},
   "outputs": [
    {
     "data": {
      "text/html": [
       "<div>\n",
       "<style scoped>\n",
       "    .dataframe tbody tr th:only-of-type {\n",
       "        vertical-align: middle;\n",
       "    }\n",
       "\n",
       "    .dataframe tbody tr th {\n",
       "        vertical-align: top;\n",
       "    }\n",
       "\n",
       "    .dataframe thead th {\n",
       "        text-align: right;\n",
       "    }\n",
       "</style>\n",
       "<table border=\"1\" class=\"dataframe\">\n",
       "  <thead>\n",
       "    <tr style=\"text-align: right;\">\n",
       "      <th></th>\n",
       "      <th>pnl</th>\n",
       "      <th>count</th>\n",
       "      <th>profit</th>\n",
       "      <th>lose</th>\n",
       "      <th>win_rate</th>\n",
       "      <th>profit_factor</th>\n",
       "      <th>expected_value</th>\n",
       "      <th>max_dd</th>\n",
       "    </tr>\n",
       "  </thead>\n",
       "  <tbody>\n",
       "    <tr>\n",
       "      <th>summary</th>\n",
       "      <td>10527.0</td>\n",
       "      <td>242</td>\n",
       "      <td>309.975904</td>\n",
       "      <td>-538.539474</td>\n",
       "      <td>0.68595</td>\n",
       "      <td>0.575586</td>\n",
       "      <td>1.394824</td>\n",
       "      <td>6.26969</td>\n",
       "    </tr>\n",
       "  </tbody>\n",
       "</table>\n",
       "</div>"
      ],
      "text/plain": [
       "             pnl  count      profit        lose  win_rate  profit_factor  \\\n",
       "summary  10527.0    242  309.975904 -538.539474   0.68595       0.575586   \n",
       "\n",
       "         expected_value   max_dd  \n",
       "summary        1.394824  6.26969  "
      ]
     },
     "execution_count": 10,
     "metadata": {},
     "output_type": "execute_result"
    }
   ],
   "source": [
    "report.summary"
   ]
  },
  {
   "cell_type": "markdown",
   "metadata": {},
   "source": [
    "Here are the following metrics:\n",
    "\n",
    "1) `PnL` - the final result for the ticker;\n",
    "2) `count` -  the number of trades executed with the ticker;\n",
    "3) `Profit` - the average profitable trade;\n",
    "4) `Lose` - the average losing trade;\n",
    "5) `Win_rate` - the ratio of profitable trades to all trades;\n",
    "6) `Profit_factor` - the ratio of the average profitable trade to the average losing trade;\n",
    "7) `Expected_avg_value` - the average result of a trade. Equity vector direction;\n",
    "8) `Max_dd` - the maximum drawdown."
   ]
  }
 ],
 "metadata": {
  "kernelspec": {
   "display_name": "Back_tester",
   "language": "python",
   "name": "python3"
  },
  "language_info": {
   "codemirror_mode": {
    "name": "ipython",
    "version": 3
   },
   "file_extension": ".py",
   "mimetype": "text/x-python",
   "name": "python",
   "nbconvert_exporter": "python",
   "pygments_lexer": "ipython3",
   "version": "3.10.6"
  },
  "vscode": {
   "interpreter": {
    "hash": "0f722720931fbd7bac8fa92a0efaafb415e0b529bea29341344773e6eccc6c21"
   }
  }
 },
 "nbformat": 4,
 "nbformat_minor": 2
}
